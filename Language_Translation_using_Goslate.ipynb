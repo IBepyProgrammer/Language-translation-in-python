{
 "cells": [
  {
   "cell_type": "code",
   "execution_count": 1,
   "metadata": {
    "colab": {
     "base_uri": "https://localhost:8080/"
    },
    "id": "swrAzE8MCa2Y",
    "outputId": "47b6b701-11f2-4174-f6b0-3e38388943fc"
   },
   "outputs": [
    {
     "name": "stdout",
     "output_type": "stream",
     "text": [
      "Requirement already satisfied: goslate in /usr/local/lib/python3.10/dist-packages (1.5.4)\n",
      "Requirement already satisfied: futures in /usr/local/lib/python3.10/dist-packages (from goslate) (3.0.5)\n"
     ]
    }
   ],
   "source": [
    "!pip install goslate"
   ]
  },
  {
   "cell_type": "code",
   "execution_count": 2,
   "metadata": {
    "id": "j_Hlh_C9Ca5b"
   },
   "outputs": [],
   "source": [
    "import goslate"
   ]
  },
  {
   "cell_type": "code",
   "execution_count": 3,
   "metadata": {
    "colab": {
     "base_uri": "https://localhost:8080/",
     "height": 35
    },
    "id": "Kc_zGuQhCa85",
    "outputId": "1838e766-dc9d-4dca-9565-95bbea34a447"
   },
   "outputs": [
    {
     "data": {
      "application/vnd.google.colaboratory.intrinsic+json": {
       "type": "string"
      },
      "text/plain": [
       "'Realicemos la traducción del idioma usando Python.'"
      ]
     },
     "execution_count": 3,
     "metadata": {},
     "output_type": "execute_result"
    }
   ],
   "source": [
    "original_text = \"Let's perform language translation using python.\"\n",
    "new_text = goslate.Goslate()\n",
    "new_text.translate(original_text, 'es')"
   ]
  },
  {
   "cell_type": "markdown",
   "metadata": {
    "id": "d-3MRX65DMDp"
   },
   "source": [
    "## Let's try translating to french in the next example"
   ]
  },
  {
   "cell_type": "code",
   "execution_count": 5,
   "metadata": {
    "colab": {
     "base_uri": "https://localhost:8080/",
     "height": 35
    },
    "id": "jvb-cIG4CbAI",
    "outputId": "de59fd2d-062a-4dac-b645-95ccda50823c"
   },
   "outputs": [
    {
     "data": {
      "application/vnd.google.colaboratory.intrinsic+json": {
       "type": "string"
      },
      "text/plain": [
       "\"Effectuons la traduction du langage à l'aide de Python.\""
      ]
     },
     "execution_count": 5,
     "metadata": {},
     "output_type": "execute_result"
    }
   ],
   "source": [
    "original_text = \"Let's perform language translation using python.\"\n",
    "new_text = goslate.Goslate()\n",
    "new_text.translate(original_text, 'fr-ca')"
   ]
  },
  {
   "cell_type": "markdown",
   "metadata": {
    "id": "LnwDvPnFFKiZ"
   },
   "source": [
    "## Let's try translating to German in the next example"
   ]
  },
  {
   "cell_type": "code",
   "execution_count": 7,
   "metadata": {
    "colab": {
     "base_uri": "https://localhost:8080/",
     "height": 35
    },
    "id": "ARhZeKXWCbgd",
    "outputId": "db995081-4b34-48f4-e33b-5a65eee50ed2"
   },
   "outputs": [
    {
     "data": {
      "application/vnd.google.colaboratory.intrinsic+json": {
       "type": "string"
      },
      "text/plain": [
       "'Führen Sie mit Python eine Sprachübersetzung durch.'"
      ]
     },
     "execution_count": 7,
     "metadata": {},
     "output_type": "execute_result"
    }
   ],
   "source": [
    "original_text = \"Let's perform language translation using python.\"\n",
    "new_text = goslate.Goslate()\n",
    "new_text.translate(original_text, 'de')"
   ]
  }
 ],
 "metadata": {
  "colab": {
   "provenance": []
  },
  "kernelspec": {
   "display_name": "Python 3 (ipykernel)",
   "language": "python",
   "name": "python3"
  },
  "language_info": {
   "codemirror_mode": {
    "name": "ipython",
    "version": 3
   },
   "file_extension": ".py",
   "mimetype": "text/x-python",
   "name": "python",
   "nbconvert_exporter": "python",
   "pygments_lexer": "ipython3",
   "version": "3.9.13"
  }
 },
 "nbformat": 4,
 "nbformat_minor": 1
}
